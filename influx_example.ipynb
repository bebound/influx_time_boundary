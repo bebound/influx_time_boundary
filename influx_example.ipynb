{
 "cells": [
  {
   "cell_type": "code",
   "execution_count": 34,
   "metadata": {
    "pycharm": {
     "is_executing": false
    }
   },
   "outputs": [
    {
     "data": {
      "text/plain": [
       "True"
      ]
     },
     "execution_count": 34,
     "metadata": {},
     "output_type": "execute_result"
    }
   ],
   "source": [
    "from influxdb import InfluxDBClient\n",
    "\n",
    "\n",
    "client = InfluxDBClient('localhost', 8086, 'root', 'root', 'example')\n",
    "\n",
    "client.create_database('example')\n",
    "\n",
    "data=[\n",
    "          ['2020-01-01 00:02:00',10],\n",
    "          ['2020-01-01 00:04:00',8],\n",
    "          ['2020-01-01 00:05:00',21],\n",
    "          ['2020-01-01 00:07:00',33],\n",
    "          ['2020-01-02 00:05:00',9],\n",
    "          ['2020-01-03 10:05:00',4]\n",
    "] \n",
    "json_body = [\n",
    "    {\n",
    "        \"measurement\": \"data\",\n",
    "        \"time\": i[0],\n",
    "        \"fields\": {\n",
    "            \"value\": i[1]\n",
    "        }\n",
    "    }\n",
    "    for i in data ]\n",
    "\n",
    "client.write_points(json_body)\n",
    "\n"
   ]
  },
  {
   "cell_type": "code",
   "execution_count": 35,
   "metadata": {},
   "outputs": [
    {
     "name": "stdout",
     "output_type": "stream",
     "text": [
      "{'time': '2020-01-01T00:02:00Z', 'value': 10}\n",
      "{'time': '2020-01-01T00:04:00Z', 'value': 8}\n",
      "{'time': '2020-01-01T00:05:00Z', 'value': 21}\n",
      "{'time': '2020-01-01T00:07:00Z', 'value': 33}\n",
      "{'time': '2020-01-02T00:05:00Z', 'value': 9}\n",
      "{'time': '2020-01-03T10:05:00Z', 'value': 4}\n"
     ]
    }
   ],
   "source": [
    "result = client.query('select * from data;')\n",
    "\n",
    "for i in result.get_points():\n",
    "    print(i)"
   ]
  },
  {
   "cell_type": "code",
   "execution_count": 36,
   "metadata": {},
   "outputs": [
    {
     "name": "stdout",
     "output_type": "stream",
     "text": [
      "{'time': '2020-01-01T00:00:00Z', 'sum': 18}\n",
      "{'time': '2020-01-01T00:05:00Z', 'sum': 54}\n",
      "{'time': '2020-01-02T00:05:00Z', 'sum': 9}\n",
      "{'time': '2020-01-03T10:05:00Z', 'sum': 4}\n"
     ]
    }
   ],
   "source": [
    "# if 1h is dividable by time interval\n",
    "\n",
    "result = client.query(\"select sum(value) from data where time>='2020-01-01 00:00:00' and time<'2020-01-04 00:30:00' group by time(5m) fill(none)\")\n",
    "\n",
    "for i in result.get_points():\n",
    "    print(i)"
   ]
  },
  {
   "cell_type": "code",
   "execution_count": 37,
   "metadata": {
    "pycharm": {
     "is_executing": false,
     "name": "#%%\n"
    }
   },
   "outputs": [
    {
     "name": "stdout",
     "output_type": "stream",
     "text": [
      "{'time': '2019-12-31T23:58:00Z', 'sum': 18}\n",
      "{'time': '2020-01-01T00:05:00Z', 'sum': 54}\n",
      "{'time': '2020-01-02T00:00:00Z', 'sum': 9}\n",
      "{'time': '2020-01-03T10:04:00Z', 'sum': 4}\n"
     ]
    }
   ],
   "source": [
    "# if 1h is not dividable by time interval\n",
    "\n",
    "result = client.query(\"select sum(value) from data where time>='2020-01-01 00:00:00' and time<'2020-01-04 00:00:00' group by time(7m) fill(none)\")\n",
    "\n",
    "for i in result.get_points():\n",
    "    print(i)"
   ]
  },
  {
   "cell_type": "code",
   "execution_count": 38,
   "metadata": {
    "pycharm": {
     "is_executing": false,
     "name": "#%%\n"
    }
   },
   "outputs": [
    {
     "name": "stdout",
     "output_type": "stream",
     "text": [
      "{'time': '2019-12-31T20:00:00Z', 'sum': 72}\n",
      "{'time': '2020-01-02T00:00:00Z', 'sum': 9}\n",
      "{'time': '2020-01-03T04:00:00Z', 'sum': 4}\n"
     ]
    }
   ],
   "source": [
    "# if 1d is not dividable by time interval\n",
    "\n",
    "result = client.query(\"select sum(value) from data where time>='2020-01-01 00:00:00' and time<'2020-01-04 00:00:00' group by time(7h) fill(none)\")\n",
    "\n",
    "for i in result.get_points():\n",
    "    print(i)\n",
    "\n"
   ]
  },
  {
   "cell_type": "code",
   "execution_count": 39,
   "metadata": {
    "pycharm": {
     "is_executing": false,
     "name": "#%%\n"
    }
   },
   "outputs": [
    {
     "name": "stdout",
     "output_type": "stream",
     "text": [
      "{'time': '2019-12-31T00:00:00Z', 'sum': 81}\n",
      "{'time': '2020-01-03T00:00:00Z', 'sum': 4}\n"
     ]
    }
   ],
   "source": [
    "# if 1 month is not dividable by time interval\n",
    "result = client.query(\"select sum(value) from data where time>='2020-01-01 00:00:00' and time<'2020-01-04 00:00:00' group by time(3d) fill(none)\")\n",
    "\n",
    "for i in result.get_points():\n",
    "    print(i)\n",
    "\n"
   ]
  },
  {
   "cell_type": "code",
   "execution_count": 40,
   "metadata": {
    "pycharm": {
     "name": "#%%\n"
    }
   },
   "outputs": [
    {
     "name": "stdout",
     "output_type": "stream",
     "text": [
      "{'time': '2020-01-01T00:00:00Z', 'sum': 39}\n",
      "{'time': '2020-01-01T00:07:00Z', 'sum': 33}\n",
      "{'time': '2020-01-02T00:02:00Z', 'sum': 9}\n",
      "{'time': '2020-01-03T09:59:00Z', 'sum': 4}\n"
     ]
    }
   ],
   "source": [
    "# time offset, move boundary\n",
    "\n",
    "result = client.query(\"select sum(value) from data where time>='2020-01-01 00:00:00' and time<'2020-01-04 00:00:00' group by time(7m,2m) fill(none)\")\n",
    "\n",
    "for i in result.get_points():\n",
    "    print(i)\n"
   ]
  }
 ],
 "metadata": {
  "kernelspec": {
   "display_name": "Python 3",
   "language": "python",
   "name": "python3"
  },
  "language_info": {
   "codemirror_mode": {
    "name": "ipython",
    "version": 3
   },
   "file_extension": ".py",
   "mimetype": "text/x-python",
   "name": "python",
   "nbconvert_exporter": "python",
   "pygments_lexer": "ipython3",
   "version": "3.7.7"
  },
  "pycharm": {
   "stem_cell": {
    "cell_type": "raw",
    "metadata": {
     "collapsed": false
    },
    "source": []
   }
  }
 },
 "nbformat": 4,
 "nbformat_minor": 1
}
